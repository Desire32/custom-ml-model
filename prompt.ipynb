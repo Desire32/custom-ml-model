{
  "nbformat": 4,
  "nbformat_minor": 0,
  "metadata": {
    "colab": {
      "provenance": [],
      "gpuType": "T4",
      "authorship_tag": "ABX9TyNf4kwD7oFxKw+YU6fk3nRT"
    },
    "kernelspec": {
      "name": "python3",
      "display_name": "Python 3"
    },
    "language_info": {
      "name": "python"
    },
    "accelerator": "GPU"
  },
  "cells": [
    {
      "cell_type": "code",
      "execution_count": 6,
      "metadata": {
        "id": "DZCt5FxPAK3C"
      },
      "outputs": [],
      "source": [
        "import torch\n",
        "import pandas as pd\n",
        "from transformers import AutoTokenizer, AutoModelForCausalLM, pipeline"
      ]
    },
    {
      "cell_type": "code",
      "source": [
        "pr_qst = pd.DataFrame([ ## dataset\n",
        "    {\"question\": \"What is the historical significance of the mosaic in the apse of the Church of Panagia Aggeloktisti and in what century was it created?\",\n",
        "     \"model_response\": \"\",\n",
        "     },\n",
        "    {\"question\": \"What architectural features distinguish the Church of Panagia Aggeloktisti and what periods of construction does it unite?\",\n",
        "     \"model_response\": \"\",\n",
        "     },\n",
        "    {\"question\": \"What does the name Aggeloktisti mean and where does it come from?\",\n",
        "     \"model_response\": \"\",\n",
        "     },\n",
        "    {\"question\": \"What chapels were added to the church in the Middle Ages and what was their purpose?\",\n",
        "     \"model_response\": \"\",\n",
        "     },\n",
        "    {\"question\": \"How does the Church of Panagia Aggeloktisti demonstrate the cultural and artistic links between different regions of the Mediterranean?\",\n",
        "     \"model_response\": \"\",\n",
        "     },\n",
        "    {\"question\": \"What arguments are put forward for the inclusion of the Church of Panagia Aggeloktisti in the UNESCO World Heritage List under criterion (i)?\",\n",
        "     \"model_response\": \"\",\n",
        "     },\n",
        "    {\"question\": \"What conservation measures have been taken since 1952 to preserve the mosaics and other elements of the church?\",\n",
        "     \"model_response\": \"\",\n",
        "     },\n",
        "    {\"question\": \"How does the church reflect the religious and spiritual life of the local community over the centuries?\",\n",
        "     \"model_response\": \"\",\n",
        "    },\n",
        "    {\"question\": \"How does the church of Panagia Aggeloktisti maintain its authenticity and integrity despite the passing centuries and the restorations carried out?\",\n",
        "     \"model_response\": \"\",\n",
        "    }\n",
        "])"
      ],
      "metadata": {
        "id": "22Sxz8Ci6uWZ"
      },
      "execution_count": 14,
      "outputs": []
    },
    {
      "cell_type": "code",
      "source": [
        "llama = \"openlm-research/open_llama_3b\"\n",
        "llama_model = AutoModelForCausalLM.from_pretrained(\n",
        "    llama,\n",
        "    torch_dtype=torch.float16, ## gpu support\n",
        "    device_map=\"auto\",\n",
        "    )\n",
        "llama_tokenizer = AutoTokenizer.from_pretrained(llama)\n",
        ""
      ],
      "metadata": {
        "id": "t4u6gwfU0oRy"
      },
      "execution_count": 15,
      "outputs": []
    },
    {
      "cell_type": "code",
      "source": [
        "def gen(question, model, tokenizer):\n",
        "    prompt = f\"Question: {question}\\nAnswer:\"\n",
        "    inputs = tokenizer(prompt, return_tensors=\"pt\").to(model.device)\n",
        "    outputs = model.generate(\n",
        "        **inputs,\n",
        "        max_length=250,\n",
        "        num_return_sequences=1,\n",
        "        do_sample=False, ## variety, turn off for now\n",
        "        top_p=0.95,\n",
        "        temperature=0.7, ## temp\n",
        "        pad_token_id=tokenizer.eos_token_id,\n",
        "    )\n",
        "    answer = tokenizer.decode(outputs[0], skip_special_tokens=True)\n",
        "    answer = answer.split(\"Answer:\")[-1].strip()\n",
        "    return answer\n",
        "\n",
        "\n",
        "llama_responses = []\n",
        "for question in pr_qst[\"question\"]:\n",
        "    response = gen(question, llama_model, llama_tokenizer)\n",
        "    llama_responses.append(response)\n",
        "\n",
        "llama_dataframe = pr_qst.copy()\n",
        "llama_dataframe[\"model_response\"] = llama_responses"
      ],
      "metadata": {
        "id": "4qiunW1V854I"
      },
      "execution_count": 23,
      "outputs": []
    },
    {
      "cell_type": "code",
      "source": [
        "llama_dataframe[\"model_response\"]"
      ],
      "metadata": {
        "colab": {
          "base_uri": "https://localhost:8080/",
          "height": 366
        },
        "id": "k75p9sMh9quh",
        "outputId": "495a6759-c0ae-40eb-c0d9-51c70338dc1d"
      },
      "execution_count": 24,
      "outputs": [
        {
          "output_type": "execute_result",
          "data": {
            "text/plain": [
              "0    The mosaic in the apse of the Church of Panagi...\n",
              "1    The Church of Panagia Aggeloktisti is a three-...\n",
              "2    Aggeloktisti is a name that means “angel-keepe...\n",
              "3    A church is a building that is used for the ce...\n",
              "4    The Church of Panagia Aggeloktisti is a unique...\n",
              "5    The Church of Panagia Aggeloktisti is a unique...\n",
              "6                                             The mosa\n",
              "7    The church is the most important building in t...\n",
              "8    The church of Panagia Aggeloktisti is a monume...\n",
              "Name: model_response, dtype: object"
            ],
            "text/html": [
              "<div>\n",
              "<style scoped>\n",
              "    .dataframe tbody tr th:only-of-type {\n",
              "        vertical-align: middle;\n",
              "    }\n",
              "\n",
              "    .dataframe tbody tr th {\n",
              "        vertical-align: top;\n",
              "    }\n",
              "\n",
              "    .dataframe thead th {\n",
              "        text-align: right;\n",
              "    }\n",
              "</style>\n",
              "<table border=\"1\" class=\"dataframe\">\n",
              "  <thead>\n",
              "    <tr style=\"text-align: right;\">\n",
              "      <th></th>\n",
              "      <th>model_response</th>\n",
              "    </tr>\n",
              "  </thead>\n",
              "  <tbody>\n",
              "    <tr>\n",
              "      <th>0</th>\n",
              "      <td>The mosaic in the apse of the Church of Panagi...</td>\n",
              "    </tr>\n",
              "    <tr>\n",
              "      <th>1</th>\n",
              "      <td>The Church of Panagia Aggeloktisti is a three-...</td>\n",
              "    </tr>\n",
              "    <tr>\n",
              "      <th>2</th>\n",
              "      <td>Aggeloktisti is a name that means “angel-keepe...</td>\n",
              "    </tr>\n",
              "    <tr>\n",
              "      <th>3</th>\n",
              "      <td>A church is a building that is used for the ce...</td>\n",
              "    </tr>\n",
              "    <tr>\n",
              "      <th>4</th>\n",
              "      <td>The Church of Panagia Aggeloktisti is a unique...</td>\n",
              "    </tr>\n",
              "    <tr>\n",
              "      <th>5</th>\n",
              "      <td>The Church of Panagia Aggeloktisti is a unique...</td>\n",
              "    </tr>\n",
              "    <tr>\n",
              "      <th>6</th>\n",
              "      <td>The mosa</td>\n",
              "    </tr>\n",
              "    <tr>\n",
              "      <th>7</th>\n",
              "      <td>The church is the most important building in t...</td>\n",
              "    </tr>\n",
              "    <tr>\n",
              "      <th>8</th>\n",
              "      <td>The church of Panagia Aggeloktisti is a monume...</td>\n",
              "    </tr>\n",
              "  </tbody>\n",
              "</table>\n",
              "</div><br><label><b>dtype:</b> object</label>"
            ]
          },
          "metadata": {},
          "execution_count": 24
        }
      ]
    },
    {
      "cell_type": "code",
      "source": [],
      "metadata": {
        "id": "-1i9RUN5_Br-"
      },
      "execution_count": null,
      "outputs": []
    }
  ]
}