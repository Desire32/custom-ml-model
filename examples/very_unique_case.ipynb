{
  "nbformat": 4,
  "nbformat_minor": 0,
  "metadata": {
    "colab": {
      "provenance": [],
      "gpuType": "T4",
      "authorship_tag": "ABX9TyMyYNwfRcR/fZd8fUD5oosF"
    },
    "kernelspec": {
      "name": "python3",
      "display_name": "Python 3"
    },
    "language_info": {
      "name": "python"
    },
    "accelerator": "GPU"
  },
  "cells": [
    {
      "cell_type": "markdown",
      "source": [
        "# Initialization of libraries"
      ],
      "metadata": {
        "id": "zsa7qxCTxJoc"
      }
    },
    {
      "cell_type": "code",
      "execution_count": 1,
      "metadata": {
        "id": "DZCt5FxPAK3C"
      },
      "outputs": [],
      "source": [
        "import torch\n",
        "import pandas as pd\n",
        "from transformers import AutoTokenizer, AutoModelForCausalLM, pipeline"
      ]
    },
    {
      "cell_type": "markdown",
      "source": [
        "# Our predefined dataset with questions we will load into our models"
      ],
      "metadata": {
        "id": "Jky7blCwxGWI"
      }
    },
    {
      "cell_type": "code",
      "source": [
        "pr_qst = pd.DataFrame([ ## dataset\n",
        "    {\"question\": \"What is the historical significance of the mosaic in the apse of the Church of Panagia Aggeloktisti and in what century was it created?\",\n",
        "     \"answer\": \"The mosaic in the apse of the Church of Panagia Aggeloktisti is of significant historical value as it is one of the finest examples of early Byzantine art in Cyprus. It depicts the Virgin Mary holding the Child Christ, flanked by archangels, and reflects the strong influence of Constantinopolitan art. It was created in the 6th century AD, making it a rare and invaluable work of early Christian iconography.\",\n",
        "     \"model_response\": \"\",\n",
        "     },\n",
        "    {\"question\": \"What architectural features distinguish the Church of Panagia Aggeloktisti and what periods of construction does it unite?\",\n",
        "     \"answer\": \"The Church of Panagia Aggeloktisti combines elements of a 6th-century basilica with a later, 11th-century domed cross-in-square church. Key architectural features include the preserved apse and mosaic from the early basilica, and the elegant domed structure added during the Middle Byzantine period, reflecting a synthesis of early Christian and Byzantine architecture.\",\n",
        "     \"model_response\": \"\",\n",
        "     },\n",
        "    {\"question\": \"What does the name Aggeloktisti mean and where does it come from?\",\n",
        "     \"answer\": \"The name 'Aggeloktisti' means 'built by angels' in Greek. According to local legend, angels constructed the church overnight after the destruction of an earlier Christian basilica, giving rise to the belief that it was divinely rebuilt.\",\n",
        "     \"model_response\": \"\",\n",
        "     },\n",
        "    {\"question\": \"What chapels were added to the church in the Middle Ages and what was their purpose?\",\n",
        "     \"answer\": \"In the Middle Ages, several chapels were added to the church complex, including a north chapel and others dedicated to saints. These chapels served both liturgical and funerary purposes, as well as providing space for local religious devotion and pilgrimage practices.\",\n",
        "     \"model_response\": \"\",\n",
        "     },\n",
        "    {\"question\": \"How does the Church of Panagia Aggeloktisti demonstrate the cultural and artistic links between different regions of the Mediterranean?\",\n",
        "     \"answer\": \"The church demonstrates cultural and artistic connections across the Mediterranean through its mosaic, which shows strong affinities with Constantinopolitan art, and its architecture, which blends Eastern Orthodox and local Cypriot styles. It stands as a testament to Cyprus’s role as a crossroads of civilizations, influenced by Byzantine, Greek, and Levantine traditions.\",\n",
        "     \"model_response\": \"\",\n",
        "     },\n",
        "    {\"question\": \"What arguments are put forward for the inclusion of the Church of Panagia Aggeloktisti in the UNESCO World Heritage List under criterion (i)?\",\n",
        "     \"answer\": \"The Church of Panagia Aggeloktisti is considered for inclusion under UNESCO criterion (i) because it represents a masterpiece of human creative genius, particularly due to its exceptional 6th-century mosaic. This work exemplifies the artistic and theological sophistication of early Christian art in the Byzantine world.\",\n",
        "     \"model_response\": \"\",\n",
        "     },\n",
        "    {\"question\": \"What conservation measures have been taken since 1952 to preserve the mosaics and other elements of the church?\",\n",
        "     \"answer\": \"Since 1952, conservation measures have included structural repairs, restoration of the dome and roofing, cleaning and stabilization of the mosaic, and ongoing archaeological and architectural studies. These efforts have aimed to protect the site’s artistic and historical integrity while ensuring its continued use and accessibility.\",\n",
        "     \"model_response\": \"\",\n",
        "     },\n",
        "    {\"question\": \"How does the church reflect the religious and spiritual life of the local community over the centuries?\",\n",
        "     \"answer\": \"The church reflects the religious and spiritual life of the local community through its continuous use as a place of worship, its role in local legends, and its integration into village life through feasts and traditions associated with the Virgin Mary. It has served as a spiritual center for centuries, adapting to the community’s evolving needs.\",\n",
        "     \"model_response\": \"\",\n",
        "    },\n",
        "    {\"question\": \"How does the church of Panagia Aggeloktisti maintain its authenticity and integrity despite the passing centuries and the restorations carried out?\",\n",
        "     \"answer\": \"Despite various restorations, the church retains a high degree of authenticity through the preservation of original elements like the apse mosaic and early Christian layout. Careful restoration practices have maintained its historical fabric, while the unbroken tradition of religious use has ensured the integrity of its spiritual and communal functions.\",\n",
        "     \"model_response\": \"\",\n",
        "    }\n",
        "])"
      ],
      "metadata": {
        "id": "22Sxz8Ci6uWZ"
      },
      "execution_count": 5,
      "outputs": []
    },
    {
      "cell_type": "markdown",
      "source": [
        "# Models init"
      ],
      "metadata": {
        "id": "Lpe5C-JixX1R"
      }
    },
    {
      "cell_type": "code",
      "source": [
        "## llama\n",
        "\n",
        "# llama = \"openlm-research/open_llama_3b\"\n",
        "# llama_model = AutoModelForCausalLM.from_pretrained(\n",
        "#     llama,\n",
        "#     torch_dtype=torch.float16, ## gpu support\n",
        "#     device_map=\"auto\",\n",
        "#     )\n",
        "# llama_tokenizer = AutoTokenizer.from_pretrained(llama)\n",
        "\n",
        "\n",
        "# tiny-llama\n",
        "# tiny = \"TinyLlama/TinyLlama-1.1B-Chat-v1.0\"\n",
        "# tiny_model = AutoModelForCausalLM.from_pretrained(\n",
        "#     tiny,\n",
        "#     torch_dtype=torch.float16, ## gpu support\n",
        "#     device_map=\"auto\",\n",
        "#     )\n",
        "# tiny_tokenizer = AutoTokenizer.from_pretrained(tiny)\n",
        "\n",
        "\n",
        "## phi\n",
        "# phi = \"microsoft/phi-2\"\n",
        "# phi_model = AutoModelForCausalLM.from_pretrained(\n",
        "#     phi,\n",
        "#     torch_dtype=torch.float16, ## gpu support\n",
        "#     device_map=\"auto\",\n",
        "#     trust_remote_code=True ## fix api issues\n",
        "#     )\n",
        "# phi_tokenizer = AutoTokenizer.from_pretrained(phi)\n",
        "\n",
        "# falcon\n",
        "falcon = \"tiiuae/falcon-rw-1b\"\n",
        "falcon_model = AutoModelForCausalLM.from_pretrained(\n",
        "    falcon,\n",
        "    torch_dtype=torch.float16, ## gpu support\n",
        "    device_map=\"auto\",\n",
        "    offload_folder=\"offload\" ## memory issue\n",
        "    )\n",
        "falcon_tokenizer = AutoTokenizer.from_pretrained(falcon)\n"
      ],
      "metadata": {
        "id": "t4u6gwfU0oRy"
      },
      "execution_count": 18,
      "outputs": []
    },
    {
      "cell_type": "markdown",
      "source": [
        "# Generate function to talk with LLM, responses to store output, output function to store in a list, after that save it in .csv file"
      ],
      "metadata": {
        "id": "du5ec8KGxb99"
      }
    },
    {
      "cell_type": "code",
      "source": [
        "def gen(question, model, tokenizer):\n",
        "    prompt = f\"Answer the following question clearly and completely:\\n{question}\\n\"\n",
        "    inputs = tokenizer(prompt, return_tensors=\"pt\").to(model.device)\n",
        "    outputs = model.generate(\n",
        "        **inputs,\n",
        "        max_new_tokens=300,\n",
        "        num_return_sequences=1,\n",
        "        do_sample=False, ## variety, turn off for now\n",
        "        top_p=0.95,\n",
        "        temperature=0.5, ## temp\n",
        "        repetition_penalty=1.2,        # no dublicates\n",
        "        no_repeat_ngram_size=4,\n",
        "        pad_token_id=tokenizer.eos_token_id,\n",
        "    )\n",
        "    answer = tokenizer.decode(outputs[0], skip_special_tokens=True)\n",
        "    if \"Answer:\" in answer:\n",
        "        answer = answer.split(\"Answer:\")[-1].strip()\n",
        "    else:\n",
        "        answer = answer.strip()\n",
        "\n",
        "    return answer\n",
        "\n",
        "# outputs\n",
        "llama_responses = [] # 20 seconds seconds runtime (3b model)\n",
        "falcon_responses = [] # 45 seconds (1b model)\n",
        "phi_responses = [] # 20 seconds -> 100 max_length (2b? model)\n",
        "tiny_responses = [] # 17 seconds -> 100 max_length (1b model)\n",
        "\n",
        "# dataframes\n",
        "llama_dataframe = pd.DataFrame()\n",
        "falcon_dataframe = pd.DataFrame()\n",
        "phi_dataframe = pd.DataFrame()\n",
        "tiny_dataframe = pd.DataFrame()\n",
        "\n",
        "def output(model, tokenizer, responses, dataframe):\n",
        "    for question in pr_qst[\"question\"]:\n",
        "        resp = gen(question, model, tokenizer)\n",
        "        responses.append(resp)\n",
        "    dataframe = pr_qst.copy()\n",
        "    dataframe[\"model_response\"] = responses\n",
        "    return dataframe\n",
        "\n",
        "## llama\n",
        "# llama_result = output(llama_model, llama_tokenizer, llama_responses, llama_dataframe)\n",
        "# llama_result.to_csv(\"llama_results.csv\")\n",
        "\n",
        "## falcon\n",
        "falcon_result = output(falcon_model, falcon_tokenizer, falcon_responses, falcon_dataframe)\n",
        "falcon_result.to_csv(\"falcon_results.csv\")\n",
        "\n",
        "## phi\n",
        "# phi_result = output(phi_model, phi_tokenizer, phi_responses, phi_dataframe)\n",
        "# phi_result.to_csv(\"phi_results.csv\")\n",
        "\n",
        "## tiny llama\n",
        "# result = output(tiny_model, tiny_tokenizer, tiny_responses, tiny_dataframe)\n",
        "# result.to_csv(\"tiny_llama_results.csv\")\n"
      ],
      "metadata": {
        "id": "4qiunW1V854I",
        "colab": {
          "base_uri": "https://localhost:8080/"
        },
        "outputId": "e3a17c79-65ac-4608-c73d-b8287e4d2b1c"
      },
      "execution_count": 16,
      "outputs": [
        {
          "output_type": "stream",
          "name": "stderr",
          "text": [
            "/usr/local/lib/python3.11/dist-packages/transformers/generation/configuration_utils.py:631: UserWarning: `do_sample` is set to `False`. However, `temperature` is set to `0.5` -- this flag is only used in sample-based generation modes. You should set `do_sample=True` or unset `temperature`.\n",
            "  warnings.warn(\n",
            "/usr/local/lib/python3.11/dist-packages/transformers/generation/configuration_utils.py:636: UserWarning: `do_sample` is set to `False`. However, `top_p` is set to `0.95` -- this flag is only used in sample-based generation modes. You should set `do_sample=True` or unset `top_p`.\n",
            "  warnings.warn(\n"
          ]
        }
      ]
    },
    {
      "cell_type": "code",
      "source": [
        "for response in falcon_result[\"model_response\"]:\n",
        "    print(response)\n",
        "    print(\"-\" * 80)\n"
      ],
      "metadata": {
        "id": "E991l6r8i0Pw",
        "colab": {
          "base_uri": "https://localhost:8080/"
        },
        "outputId": "4a05499d-c5b4-44a5-fb99-cd1aeacf2018"
      },
      "execution_count": 20,
      "outputs": [
        {
          "output_type": "stream",
          "name": "stdout",
          "text": [
            "Answer the following question clearly and completely:\n",
            "What is the historical significance of the mosaic in the apse of the Church of Panagia Aggeloktisti and in what century was it created?\n",
            "The answer to this will be posted on Monday, May 5th. Good luck!I have been a fan for years now but I am not sure if you are aware that there has recently become an official website dedicated solely towards my work as well (which can also include other artists). It's called \"Artists' Websites\" which features all sorts from music sites like MySpace or Last FM where people post their favorite songs by various bands/artists etc...to art websites such as Deviant Art & Flickr with galleries full of amazing artwork done just about anything imaginable including photography....and even some video game related ones too!! There really isn't much else out here so far except one site devoted entirely toward me - The Official Website Of Me!!! So check them both up when your bored at home :) And don’t forget they're free!!!! :D Here we go again…the first time since last year….that i had something new going around…..so let us get started shall We??? Well lets start off today……..with another piece entitled “A New Beginning For A Better Tomorrow Part 2″ This painting depicts two characters who seem very happy together yet somehow feel apart due perhaps because he doesn´t know how she feels inside her heart …or maybe its simply cause his mind keeps wandering back into old memories while trying desperately hard NOT TO DREAM ABOUT HER BUT HE CANNOT HELP IT!!!!! He knows deep down within himself though thats why hes always looking over everything hoping\n",
            "--------------------------------------------------------------------------------\n",
            "Answer the following question clearly and completely:\n",
            "What architectural features distinguish the Church of Panagia Aggeloktisti and what periods of construction does it unite?\n",
            "The church is located in a small village called Agios Nikolaos, which was built on an island. The name “Panagiota” means \"the mother\" or more specifically refers to Saint Nicholas (who lived around 300 AD). It has been said that this place had already existed as early times but only after its foundation by St Nikolas there were many churches dedicated either directly under his patronage such like those at Kastraki for example; Or perhaps they are simply named with reference from other places where he preached during these years..I have always loved my job! I love being able help people feel better about themselves through their hair & makeup so much!! My favorite part though...is seeing them walk out looking amazing!!! That's when you know your doing something right :) Here some pics below....enjoy!!!! XOXO-Kylie Boudreaux Makeup Artist/Owner @kyleeboumakeupsalon #hairbykylieboutique Hair By Kylie Boutiques Salon - 713 S Main Street Suite A | Bastrop TX 78602 Phone : 936 639 8800 Email Us kylegirl@yahoo.com Website Facebook Instagram Twitter Pinterest Google+ Blogspot Youtube Linkedin Tumblr Snapchat SnapChat instagram_user=KYLEBOUMAKEUP&hashtag = KYLIEBABY#\n",
            "--------------------------------------------------------------------------------\n",
            "Answer the following question clearly and completely:\n",
            "What does the name Aggeloktisti mean and where does it come from?\n",
            "The word “Aggelos” is derived by combining two Greek words, which are both related to a verb meaning \"to be angry.\" The first part of this combination (aggelo) means anger. This was combined with another root that meant something like 'a man who has been given authority' or someone in charge; thus we get our English term for an official magistrate - aggela (\"official\"). In ancient times there were many different types of magistrates throughout Greece – some had more power than others but all held office under divine law as well-known prophets such as Moses & Jesus Christ! So when you see people called Magistrate today they really do not have any special powers other then being appointed/elected officials according to their own will...and if anyone tries anything against them…they can just call on God's help!!I am so excited about my new book coming out next month!!! I love writing books because each one brings me joy every time i write down what happens during those pages.. It makes sense why writers say its hard work lol But at least im doing exactly whats supposed too happen right?! Lol And now Im going through edits again after finishing up editing last night before bedtime haha yayyyy!!!! Its always fun getting back into edit mode especially since ive already done most things over once hahaha oh yeah also got 2 chapters finished yesterday morning while eating breakfast hehe :) YAYYYY!!!!! :D Now onto chapter 3.... Hahha\n",
            "--------------------------------------------------------------------------------\n",
            "Answer the following question clearly and completely:\n",
            "What chapels were added to the church in the Middle Ages and what was their purpose?\n",
            "1. The first chapel, which is now called St Mary’s Chapel (the original name of this building being ‘The Holy Trinity Church) dates from 1220 when it replaced a small wooden structure that had been built on land given by John de la Pole for his wife Margaret at her death some time before 1170/71 AD.[i] This new stone-built construction has an octagonal plan with three bays; one bay contains two windows each side while another window faces eastwards towards London Road where there are also four other smaller openings leading into adjoining rooms within its walls – these latter opening have since disappeared but they may be seen as part of our present vestry area![ii]. It stands next door or rather across High Street just south westwardly along Newland Avenue so close together you could almost walk between them if your legs weren't too tired after walking up all those steps inside!! In fact we can see evidence today still visible through old photographs taken around 1900 showing how closely adjacent both buildings stood then - although I'm not sure whether any pictures exist dating back further than about 1910 though perhaps someone reading my blog will know otherwise?? [iii]). There seems no reason why such large spaces should necessarily need separate entrances either because access would presumably already come via main doors located elsewhere near high street level.. However even without having looked carefully enough yet again here's something else interesting... If anyone knows anything more specifically regarding who owned property immediately north & slightly higher down Hillc\n",
            "--------------------------------------------------------------------------------\n",
            "Answer the following question clearly and completely:\n",
            "How does the Church of Panagia Aggeloktisti demonstrate the cultural and artistic links between different regions of the Mediterranean?\n",
            "The answer is that it demonstrates them through its architecture, which has been influenced by both Greek culture as well as other cultures. The church was built in a style known to be characteristic for this region (the “Greek” or Byzantine period). It also displays some elements from various religious traditions such as Christianity; however these are not dominant features but rather they have become part of an overall design scheme based on classical forms with influences coming mainly form Greece itself – especially Athens where most architectural styles were developed during Antiquity..I am so excited about my new book! I can't wait until you get your hands on one...or two....and then we'll all know what's going down at our house next year!! :) Here goes nothing.....let me introduce myself......my name is Amy Jo Goddard-Baker & yes - there really IS another \"A\" after her last initial!!! My husband calls us A&J because he thinks people will think his wife looks like him when she gets older too!!!! LOL So here comes today........today marks day 1 since publishing date.......so far things seem pretty good.........but let's see how long before those first few days go away??? We're still working out kinks right now though.............we've had several glitches along the way including having no internet access while writing/editing etc., losing power twice due to storms over night causing problems getting back up again plus just plain old computer issues lately making life difficult sometimes even frustrating!!!!! But hey................\n",
            "--------------------------------------------------------------------------------\n",
            "Answer the following question clearly and completely:\n",
            "What arguments are put forward for the inclusion of the Church of Panagia Aggeloktisti in the UNESCO World Heritage List under criterion (i)?\n",
            "The answer is given below. Please note that this was a very difficult task, as there were many different opinions on what should be included into WHS list! The answers to all questions can also found here at our website or you may download them from HEREI’m not sure if I have ever mentioned it before but my husband has been working with me since we got married almost 10 years ago now – he does most things around home including cooking dinner every night which means when something goes wrong like last nights meal being too salty then its down him because thats his job!! He doesn't mind though so longs life isn't over yet lol 😉 Anyway back onto today's post… This week one thing i wanted us both do together after work/school had finished each day would either go out shopping / visit somewhere new etc.. So yesterday morning hubby & myself went off exploring some more places near where she works - first stop Sainsburys supermarket 🙂 We did get lost trying find an entrance way once inside haha … But eventually made up again by asking people who worked nearby about how they knew their own route round 🤣😅😂 Then next place visited wasn’t far away just outside her workplace called ‘Boots Pharmacy'.. It looked really nice although quite expensive compared other pharmacies prices (£5). After looking through everything, buying lots o stuff such as toothpaste £3-£4 per tube(which will probably endup getting used anyway\n",
            "--------------------------------------------------------------------------------\n",
            "Answer the following question clearly and completely:\n",
            "What conservation measures have been taken since 1952 to preserve the mosaics and other elements of the church?\n",
            "The answer should be in a paragraph or two. The essay must include at least one example from each category (i) preservation, restoration/preservation;(ii), documentation & research on site conditions before work began.(iii).I’m not sure if I can call this an “experiment with my new camera! But it was fun trying out some different settings for taking pictures…and then playing around editing them afterwards 🙂 This is just another way that you could use your photos as inspiration when creating something yourself – like making cards using these ideas!! Enjoy!!! And don't forget about our current challenge over @ Stampin' Up's blog HERE - we'd love YOURS too!!!! Thanks so much everyone who has played along already...we're having such FUN!!!!! Hugs- Glora xoxo __________________________________________________ Do You Yahoo!? Get email alerts & NEW webcam video instant messaging with Yahoo! Messenger Sign up now | More info ---------------------------------------------------------------------------------------------- \"You are what makes me happy\" ~Unknown----------------------------------------------------------------------------------------------------------------------Thanks again SO MUCH ladies....you all ROCKED IT!!!!!!!! :) Have A GREAT Day Everyone.....HUGS gloria xxoo<><>xooooooo0oooooooo000003000001030000030010020000000000000000000000000000000000000000001001102030405060708090990991011111213141516171819202122232425262728293032343444546457495556\n",
            "--------------------------------------------------------------------------------\n",
            "Answer the following question clearly and completely:\n",
            "How does the church reflect the religious and spiritual life of the local community over the centuries?\n",
            "The answer to this is not a simple one. The Church has always been part, but never all-encompassing or exclusive in its influence on society as it was then understood by those who lived at that time; nor can we say with certainty how much impact Christianity had upon social structures during any particular period (or even whether there were such things). It would be wrong for us today simply because our understanding changes so rapidly – what might have seemed like an important issue yesterday may seem trivial now! But if you are going into your research project thinking ‘I’m just looking up some facts about X century Christian history… I don't really care which religion they believed/practiced etc., my main focus will probably still lie within their beliefs regarding marriage & divorce', please think again - these issues do matter very deeply indeed!! And remember too...the more specific questions asked here should help narrow down exactly where YOUR interests lay when researching topics relating specifically to Christians living through different periods throughout Europe's long past..A new study from researchers led by Drs David Llewellyn Jones et al published recently shows promising results using gene therapy technology called CRISPR Cas9 genome editing system combined together with lentiviral vectors carrying plasmid DNA encoding anti–IL6R antibody against IL1 receptor antagonist protein 1(anti‐IRAP). This approach could potentially lead towards development of novel therapeutic approaches targeting inflammatory diseases including rheumatoid arthritis, psoriatic disease …Read\n",
            "--------------------------------------------------------------------------------\n",
            "Answer the following question clearly and completely:\n",
            "How does the church of Panagia Aggeloktisti maintain its authenticity and integrity despite the passing centuries and the restorations carried out?\n",
            "The answer is that it has been preserved by a continuous effort to preserve, restore or rebuild. The restoration work was started in 1881 when an earthquake damaged part (the lower floor) but not all parts were destroyed; this building had already served as one for many years before being used during World War II with great success until 1945-1946 due mainly because there are no other churches like these ones anywhere else on earth! In fact they have never seen any major damage since their construction over two hundred fifty five year ago except from some minor repairs done after WWII which did nothing more than make them look better again rather then preserving what made up those original structures so well built back at first place…and now we can see how much time passed between our last visit here almost twenty four months earlier compared against today’s date where I am writing about my experience visiting such amazing places once upon another while looking around me through pictures taken just recently – yes you guessed right - only three days later!! And yet still everything looks exactly same even though most things inside may be different depending if your eyesight allows seeing something new every day instead old stuff remains unchanged forever!!! This makes us wonder why people do change anything unless maybe someone wants too?! But let's get down into details shall we?? Let start off talking briefly regarding history behind each structure within...then move onto interior design elements..lastly finish discussing exterior features....all together making sure everyone gets enough information needed without getting bored reading long paragraphs fullfilled\n",
            "--------------------------------------------------------------------------------\n"
          ]
        }
      ]
    },
    {
      "cell_type": "code",
      "source": [],
      "metadata": {
        "id": "62OBuCzITcLv"
      },
      "execution_count": null,
      "outputs": []
    }
  ]
}