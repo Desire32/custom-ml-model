{
 "cells": [
  {
   "cell_type": "code",
   "execution_count": null,
   "metadata": {
    "_cell_guid": "b1076dfc-b9ad-4769-8c92-a6c4dae69d19",
    "_uuid": "8f2839f25d086af736a60e9eeb907d3b93b6e0e5",
    "execution": {
     "iopub.execute_input": "2025-05-13T20:35:48.167556Z",
     "iopub.status.busy": "2025-05-13T20:35:48.167274Z",
     "iopub.status.idle": "2025-05-13T20:36:07.750071Z",
     "shell.execute_reply": "2025-05-13T20:36:07.749431Z",
     "shell.execute_reply.started": "2025-05-13T20:35:48.167532Z"
    },
    "trusted": true
   },
   "outputs": [],
   "source": [
    "from transformers import AutoTokenizer, AutoModelForCausalLM, Trainer, TrainingArguments, DataCollatorForLanguageModeling\n",
    "import torch"
   ]
  },
  {
   "cell_type": "code",
   "execution_count": null,
   "metadata": {
    "execution": {
     "iopub.execute_input": "2025-05-13T20:36:07.751909Z",
     "iopub.status.busy": "2025-05-13T20:36:07.751285Z",
     "iopub.status.idle": "2025-05-13T20:36:08.424379Z",
     "shell.execute_reply": "2025-05-13T20:36:08.423631Z",
     "shell.execute_reply.started": "2025-05-13T20:36:07.751886Z"
    },
    "trusted": true
   },
   "outputs": [],
   "source": [
    "import nltk # to convert text into some more presentable way\n",
    "nltk.download(\"punkt\")\n",
    "nltk.download('punkt_tab')\n",
    "from nltk.tokenize import sent_tokenize, word_tokenize"
   ]
  },
  {
   "cell_type": "code",
   "execution_count": 3,
   "metadata": {
    "execution": {
     "iopub.execute_input": "2025-05-13T20:36:08.425329Z",
     "iopub.status.busy": "2025-05-13T20:36:08.425137Z",
     "iopub.status.idle": "2025-05-13T20:36:08.473881Z",
     "shell.execute_reply": "2025-05-13T20:36:08.473033Z",
     "shell.execute_reply.started": "2025-05-13T20:36:08.425313Z"
    },
    "trusted": true
   },
   "outputs": [],
   "source": [
    "file_name = \"little piece\"\n",
    "with open(file_name, \"r\", encoding=\"utf-8\") as file: ## reading a file and storing it into one variable\n",
    "    f = file.read()\n",
    "    sentenses = sent_tokenize(f) # our english teacher\n",
    "tokenized_sentenses = [word_tokenize(sent) for sent in sentenses] # structure a text"
   ]
  },
  {
   "cell_type": "code",
   "execution_count": null,
   "metadata": {
    "execution": {
     "iopub.execute_input": "2025-05-13T20:36:08.475541Z",
     "iopub.status.busy": "2025-05-13T20:36:08.475267Z",
     "iopub.status.idle": "2025-05-13T20:37:25.154618Z",
     "shell.execute_reply": "2025-05-13T20:37:25.154008Z",
     "shell.execute_reply.started": "2025-05-13T20:36:08.475512Z"
    },
    "trusted": true
   },
   "outputs": [],
   "source": [
    "from transformers import BitsAndBytesConfig\n",
    "# !pip install bitsandbytes accelerate\n",
    "quant_config = BitsAndBytesConfig(load_in_8bit=True)\n",
    "phi = \"microsoft/phi-2\"\n",
    "phi_model = AutoModelForCausalLM.from_pretrained(\n",
    "    phi,\n",
    "    device_map=\"auto\",\n",
    "    quantization_config=quant_config,\n",
    "    trust_remote_code=True\n",
    ")\n",
    "\n",
    "phi_tokenizer = AutoTokenizer.from_pretrained(phi)\n",
    "phi_tokenizer.pad_token = phi_tokenizer.eos_token\n"
   ]
  },
  {
   "cell_type": "code",
   "execution_count": null,
   "metadata": {
    "execution": {
     "iopub.execute_input": "2025-05-13T20:37:25.155587Z",
     "iopub.status.busy": "2025-05-13T20:37:25.155320Z",
     "iopub.status.idle": "2025-05-13T20:37:27.932393Z",
     "shell.execute_reply": "2025-05-13T20:37:27.931508Z",
     "shell.execute_reply.started": "2025-05-13T20:37:25.155562Z"
    },
    "trusted": true
   },
   "outputs": [],
   "source": [
    "from peft import prepare_model_for_kbit_training, LoraConfig, get_peft_model\n",
    "\n",
    "phi_model = prepare_model_for_kbit_training(phi_model)\n",
    "\n",
    "lora_config = LoraConfig(\n",
    "    r=8,\n",
    "    lora_alpha=16,\n",
    "    target_modules=[\"q_proj\", \"v_proj\"],  # зависит от архитектуры, ниже уточню\n",
    "    lora_dropout=0.05,\n",
    "    bias=\"none\",\n",
    "    task_type=\"CAUSAL_LM\"\n",
    ")\n",
    "\n",
    "phi_model = get_peft_model(phi_model, lora_config)\n",
    "phi_model.gradient_checkpointing_enable()"
   ]
  },
  {
   "cell_type": "code",
   "execution_count": null,
   "metadata": {
    "execution": {
     "iopub.execute_input": "2025-05-13T20:53:04.621814Z",
     "iopub.status.busy": "2025-05-13T20:53:04.620935Z"
    },
    "trusted": true
   },
   "outputs": [],
   "source": [
    "from datasets import Dataset\n",
    "\n",
    "dataset = Dataset.from_dict({\"text\": f.split(\"\\n\\n\")})\n",
    "\n",
    "def token_func(example):\n",
    "    return phi_tokenizer(\n",
    "        example[\"text\"],\n",
    "        truncation=True,\n",
    "        padding=\"max_length\",\n",
    "        max_length=512\n",
    "    )\n",
    "\n",
    "token_dataset = dataset.map(token_func, batched=True)"
   ]
  },
  {
   "cell_type": "code",
   "execution_count": null,
   "metadata": {
    "trusted": true
   },
   "outputs": [],
   "source": [
    "data_collator = DataCollatorForLanguageModeling(\n",
    "    tokenizer=phi_tokenizer,\n",
    "    mlm=False\n",
    ")\n",
    "\n",
    "training_args = TrainingArguments(\n",
    "    output_dir=\"./mistral-continued-pretrain\",\n",
    "    overwrite_output_dir=True,\n",
    "    max_steps=1000,\n",
    "    per_device_train_batch_size=1,\n",
    "    save_steps=500,\n",
    "    save_total_limit=1,\n",
    "    prediction_loss_only=True,\n",
    "    fp16=False,  # Disable fp16 for T4\n",
    "    learning_rate=5e-6,\n",
    "    logging_steps=50,\n",
    ")\n",
    "\n",
    "\n",
    "trainer = Trainer(\n",
    "    model=phi_model,\n",
    "    args=training_args,\n",
    "    train_dataset=token_dataset,\n",
    "    tokenizer=phi_tokenizer,\n",
    "    data_collator=data_collator,\n",
    ")\n",
    "\n",
    "trainer.train()"
   ]
  },
  {
   "cell_type": "code",
   "execution_count": null,
   "metadata": {},
   "outputs": [],
   "source": [
    "checkpoint_path = \"./mistral-continued-pretrain/checkpoint-1000\"\n",
    "import safetensors.torch\n",
    "adapter_weights = safetensors.torch.load_file(\"./mistral-continued-pretrain/checkpoint-1000/adapter_model.safetensors\")"
   ]
  },
  {
   "cell_type": "code",
   "execution_count": null,
   "metadata": {},
   "outputs": [],
   "source": [
    "phi_model.load_state_dict(adapter_weights, strict=False)\n",
    "pipe = pipeline(\"text-generation\", model=phi_model, tokenizer=phi_tokenizer)\n",
    "pipe(\"church of Panagia Aggeloktisti\")\n",
    "\n",
    "import shutil\n",
    "shutil.make_archive(\"model-checkpoint\", 'zip', \"./mistral-continued-pretrain/checkpoint-1000\")\n",
    "from google.colab import files\n",
    "files.download(\"model-checkpoint.zip\")\n"
   ]
  }
 ],
 "metadata": {
  "kaggle": {
   "accelerator": "gpu",
   "dataSources": [
    {
     "datasetId": 7408757,
     "sourceId": 11797985,
     "sourceType": "datasetVersion"
    }
   ],
   "dockerImageVersionId": 31041,
   "isGpuEnabled": true,
   "isInternetEnabled": true,
   "language": "python",
   "sourceType": "notebook"
  },
  "kernelspec": {
   "display_name": "Python 3",
   "language": "python",
   "name": "python3"
  },
  "language_info": {
   "codemirror_mode": {
    "name": "ipython",
    "version": 3
   },
   "file_extension": ".py",
   "mimetype": "text/x-python",
   "name": "python",
   "nbconvert_exporter": "python",
   "pygments_lexer": "ipython3",
   "version": "3.11.11"
  }
 },
 "nbformat": 4,
 "nbformat_minor": 4
}
